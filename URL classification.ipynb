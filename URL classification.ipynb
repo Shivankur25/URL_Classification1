{
 "cells": [
  {
   "cell_type": "code",
   "execution_count": 1,
   "id": "4e1058e1",
   "metadata": {},
   "outputs": [],
   "source": [
    "import numpy as np\n",
    "import pandas as pd\n",
    "import nltk\n",
    "import re\n",
    "from time import time\n",
    "from sklearn.model_selection import train_test_split\n",
    "from sklearn.metrics import accuracy_score\n",
    "from sklearn.feature_extraction.text import TfidfVectorizer\n",
    "from sklearn.naive_bayes import MultinomialNB\n",
    "from nltk.corpus import stopwords"
   ]
  },
  {
   "cell_type": "code",
   "execution_count": 2,
   "id": "c7816131",
   "metadata": {},
   "outputs": [],
   "source": [
    "data = pd.read_csv(r\"E:\\DataSets-master\\data.csv\")"
   ]
  },
  {
   "cell_type": "code",
   "execution_count": 3,
   "id": "15ad0516",
   "metadata": {},
   "outputs": [
    {
     "data": {
      "text/html": [
       "<div>\n",
       "<style scoped>\n",
       "    .dataframe tbody tr th:only-of-type {\n",
       "        vertical-align: middle;\n",
       "    }\n",
       "\n",
       "    .dataframe tbody tr th {\n",
       "        vertical-align: top;\n",
       "    }\n",
       "\n",
       "    .dataframe thead th {\n",
       "        text-align: right;\n",
       "    }\n",
       "</style>\n",
       "<table border=\"1\" class=\"dataframe\">\n",
       "  <thead>\n",
       "    <tr style=\"text-align: right;\">\n",
       "      <th></th>\n",
       "      <th>url</th>\n",
       "      <th>label</th>\n",
       "    </tr>\n",
       "  </thead>\n",
       "  <tbody>\n",
       "    <tr>\n",
       "      <th>0</th>\n",
       "      <td>diaryofagameaddict.com</td>\n",
       "      <td>bad</td>\n",
       "    </tr>\n",
       "    <tr>\n",
       "      <th>1</th>\n",
       "      <td>espdesign.com.au</td>\n",
       "      <td>bad</td>\n",
       "    </tr>\n",
       "    <tr>\n",
       "      <th>2</th>\n",
       "      <td>iamagameaddict.com</td>\n",
       "      <td>bad</td>\n",
       "    </tr>\n",
       "    <tr>\n",
       "      <th>3</th>\n",
       "      <td>kalantzis.net</td>\n",
       "      <td>bad</td>\n",
       "    </tr>\n",
       "    <tr>\n",
       "      <th>4</th>\n",
       "      <td>slightlyoffcenter.net</td>\n",
       "      <td>bad</td>\n",
       "    </tr>\n",
       "  </tbody>\n",
       "</table>\n",
       "</div>"
      ],
      "text/plain": [
       "                      url label\n",
       "0  diaryofagameaddict.com   bad\n",
       "1        espdesign.com.au   bad\n",
       "2      iamagameaddict.com   bad\n",
       "3           kalantzis.net   bad\n",
       "4   slightlyoffcenter.net   bad"
      ]
     },
     "execution_count": 3,
     "metadata": {},
     "output_type": "execute_result"
    }
   ],
   "source": [
    "data.head()"
   ]
  },
  {
   "cell_type": "code",
   "execution_count": 4,
   "id": "36d64541",
   "metadata": {},
   "outputs": [
    {
     "name": "stdout",
     "output_type": "stream",
     "text": [
      "Total sample is (420464, 2)\n"
     ]
    }
   ],
   "source": [
    "print(\"Total sample is {}\".format(data.shape))"
   ]
  },
  {
   "cell_type": "code",
   "execution_count": 5,
   "id": "8d2ea108",
   "metadata": {},
   "outputs": [],
   "source": [
    "def text_cleaning(data):\n",
    "    corpus=[]\n",
    "    for i in range(0,len(data)):\n",
    "        process_data=re.sub(r'\\W',' ',str(data[i]))\n",
    "        process_data=process_data.lower()\n",
    "        process_data=re.sub(r'\\d+',\" \",process_data)\n",
    "        process_data=re.sub(r\"[^a-zA-Z]\",' ',process_data)\n",
    "        process_data=re.sub(r'\\s+',' ',process_data)\n",
    "        corpus.append(process_data)\n",
    "    return corpus"
   ]
  },
  {
   "cell_type": "code",
   "execution_count": 6,
   "id": "675600e0",
   "metadata": {},
   "outputs": [],
   "source": [
    "corpus = text_cleaning(data[\"url\"])"
   ]
  },
  {
   "cell_type": "code",
   "execution_count": 7,
   "id": "06be4494",
   "metadata": {},
   "outputs": [],
   "source": [
    "tf_vector=TfidfVectorizer(max_features=len(corpus),ngram_range=(1,2),min_df=1,max_df=.8,stop_words=stopwords.words('english'))"
   ]
  },
  {
   "cell_type": "code",
   "execution_count": 8,
   "id": "0f15c063",
   "metadata": {},
   "outputs": [
    {
     "data": {
      "text/plain": [
       "sklearn.feature_extraction.text.TfidfVectorizer"
      ]
     },
     "execution_count": 8,
     "metadata": {},
     "output_type": "execute_result"
    }
   ],
   "source": [
    "type(tf_vector)"
   ]
  },
  {
   "cell_type": "code",
   "execution_count": 9,
   "id": "dab2c166",
   "metadata": {},
   "outputs": [],
   "source": [
    "tf_vector_matrix=tf_vector.fit_transform(corpus)"
   ]
  },
  {
   "cell_type": "code",
   "execution_count": 10,
   "id": "c40c236b",
   "metadata": {},
   "outputs": [],
   "source": [
    "x_feature=tf_vector_matrix\n",
    "y_cat=data.label"
   ]
  },
  {
   "cell_type": "code",
   "execution_count": 11,
   "id": "2c0bbd64",
   "metadata": {},
   "outputs": [],
   "source": [
    "Xtrain,Xtest,Ytrain,Ytest=train_test_split(x_feature,y_cat,test_size=.30,random_state=101)"
   ]
  },
  {
   "cell_type": "markdown",
   "id": "7033f546",
   "metadata": {},
   "source": [
    "# Naive bayes\n"
   ]
  },
  {
   "cell_type": "code",
   "execution_count": 12,
   "id": "ac05af25",
   "metadata": {},
   "outputs": [
    {
     "name": "stdout",
     "output_type": "stream",
     "text": [
      "Time taken by nb model 0.9355957508087158\n"
     ]
    }
   ],
   "source": [
    "time_s=time()\n",
    "nb_model=MultinomialNB()\n",
    "nb_learner=nb_model.fit(Xtrain,Ytrain)\n",
    "time_end=time()\n",
    "nb_train_time=time_end-time_s\n",
    "print(\"Time taken by nb model {}\".format(nb_train_time))"
   ]
  },
  {
   "cell_type": "code",
   "execution_count": 13,
   "id": "7045da60",
   "metadata": {},
   "outputs": [],
   "source": [
    "testInput=tf_vector.transform([\"myspace.com/misstressbarbara\"])"
   ]
  },
  {
   "cell_type": "code",
   "execution_count": 14,
   "id": "7adabcf9",
   "metadata": {},
   "outputs": [
    {
     "name": "stdout",
     "output_type": "stream",
     "text": [
      "  (0, 194099)\t0.30904736041142106\n",
      "  (0, 194097)\t0.3089411862901116\n",
      "  (0, 186627)\t0.629478304622296\n",
      "  (0, 77525)\t0.6389184702751584\n",
      "  (0, 69872)\t0.06771502630497474\n"
     ]
    }
   ],
   "source": [
    "print(testInput)"
   ]
  },
  {
   "cell_type": "code",
   "execution_count": 15,
   "id": "85460e06",
   "metadata": {},
   "outputs": [
    {
     "name": "stdout",
     "output_type": "stream",
     "text": [
      "Acc of nb is 97.2031076581576 \n"
     ]
    }
   ],
   "source": [
    "Ypnb=nb_learner.predict(Xtest)\n",
    "acc_nb=accuracy_score(Ypnb,Ytest)*100\n",
    "print(\"Acc of nb is {} \".format(acc_nb))\n"
   ]
  },
  {
   "cell_type": "markdown",
   "id": "5fbb488a",
   "metadata": {},
   "source": [
    "# Saving the module"
   ]
  },
  {
   "cell_type": "code",
   "execution_count": 16,
   "id": "d6c55b13",
   "metadata": {},
   "outputs": [],
   "source": [
    "# import joblib"
   ]
  },
  {
   "cell_type": "code",
   "execution_count": 17,
   "id": "36af53ed",
   "metadata": {},
   "outputs": [],
   "source": [
    "# joblib.dump(nb_learner,\"nb_learner_model.pkl\")\n",
    "# joblib.dump(tf_vector,\"tf_vector_model.pkl\")"
   ]
  },
  {
   "cell_type": "code",
   "execution_count": null,
   "id": "bc12d974",
   "metadata": {},
   "outputs": [],
   "source": []
  },
  {
   "cell_type": "code",
   "execution_count": null,
   "id": "3ecfb6b2",
   "metadata": {},
   "outputs": [],
   "source": []
  }
 ],
 "metadata": {
  "kernelspec": {
   "display_name": "Python 3 (ipykernel)",
   "language": "python",
   "name": "python3"
  },
  "language_info": {
   "codemirror_mode": {
    "name": "ipython",
    "version": 3
   },
   "file_extension": ".py",
   "mimetype": "text/x-python",
   "name": "python",
   "nbconvert_exporter": "python",
   "pygments_lexer": "ipython3",
   "version": "3.8.8"
  }
 },
 "nbformat": 4,
 "nbformat_minor": 5
}
